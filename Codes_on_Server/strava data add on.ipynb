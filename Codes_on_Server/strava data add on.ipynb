{
 "cells": [
  {
   "cell_type": "code",
   "execution_count": 1,
   "id": "3b888652",
   "metadata": {},
   "outputs": [],
   "source": [
    "import matplotlib.pyplot as plt\n",
    "import matplotlib.image as img\n",
    "import os\n",
    "import pandas as pd\n",
    "import geopandas as gpd\n",
    "from shapely.geometry import Point\n",
    "import matplotlib.pyplot as plt\n",
    "\n"
   ]
  },
  {
   "cell_type": "code",
   "execution_count": 11,
   "id": "87d8e39f",
   "metadata": {},
   "outputs": [
    {
     "name": "stdout",
     "output_type": "stream",
     "text": [
      "       Unnamed: 0          image_id  \\\n",
      "0               0  1838135283055805   \n",
      "1               1   478534750381235   \n",
      "2               2   193800792561620   \n",
      "3               2   193800792561620   \n",
      "4               3  1145466765918865   \n",
      "...           ...               ...   \n",
      "29825       15576   868988650493283   \n",
      "29826       15577   168512801742422   \n",
      "29827       15577   168512801742422   \n",
      "29828       15577   168512801742422   \n",
      "29829       15577   168512801742422   \n",
      "\n",
      "                                            geometry  index_right  \\\n",
      "0       POINT (12.454456686973572 55.72951464113754)     299404.0   \n",
      "1       POINT (12.45475172996521 55.728188528643074)     169509.0   \n",
      "2       POINT (12.448373436927795 55.73175292018507)     206908.0   \n",
      "3       POINT (12.448373436927795 55.73175292018507)     267849.0   \n",
      "4      POINT (12.454644441604614 55.727505819909766)     286248.0   \n",
      "...                                              ...          ...   \n",
      "29825   POINT (12.556225061416626 55.74320812040432)     177910.0   \n",
      "29826   POINT (12.556219696998596 55.74517386076704)     149676.0   \n",
      "29827   POINT (12.556219696998596 55.74517386076704)     178681.0   \n",
      "29828   POINT (12.556219696998596 55.74517386076704)     241093.0   \n",
      "29829   POINT (12.556219696998596 55.74517386076704)     250561.0   \n",
      "\n",
      "           edgeUID        osmId  \n",
      "0      174551542.0   38154645.0  \n",
      "1      174551686.0  497235759.0  \n",
      "2      174551366.0  406548684.0  \n",
      "3      174551367.0  624492555.0  \n",
      "4      174551541.0  205636593.0  \n",
      "...            ...          ...  \n",
      "29825  174595979.0    4266800.0  \n",
      "29826  174598063.0  803164427.0  \n",
      "29827  174598065.0  803164430.0  \n",
      "29828  174598068.0  803164432.0  \n",
      "29829  174598062.0  803164428.0  \n",
      "\n",
      "[3536290 rows x 6 columns]\n"
     ]
    }
   ],
   "source": [
    "# Load the CSV file into a DataFrame\n",
    "df1 = pd.read_csv('sjoin_data_kbh+amager.csv')\n",
    "df2 = pd.read_csv('sjoin_data_glostrup.csv')\n",
    "df = pd.concat([df1, df2])\n",
    "print(df)\n",
    "\n",
    "# Get a list of the image IDs from the image folder\n",
    "image_folder = '/home/s214626/billeder'  \n",
    "image_ids = [filename.split('.')[0] for filename in os.listdir(image_folder) if filename.endswith('.jpg')]\n",
    "\n",
    "# Filter the DataFrame to keep only the rows with matching image IDs\n",
    "df = df[df['image_id'].astype(str).isin(image_ids)]\n",
    "\n",
    "# Reset the index of the DataFrame\n",
    "df = df.reset_index(drop=True)\n",
    "\n",
    "# Filter the DataFrame to keep only the rows with non-null edgeUID values\n",
    "df = df.dropna(subset=['edgeUID'])\n",
    "\n",
    "# Reset the index of the DataFrame\n",
    "df = df.reset_index(drop=True)\n",
    "\n",
    "df = df.drop('Unnamed: 0', axis=1)\n",
    "\n",
    "# add image path\n",
    "file_extension = '.jpg'  # Replace with the actual file extension of your images\n",
    "\n",
    "def get_image_path(image_id):\n",
    "    return os.path.join(image_folder, str(image_id) + file_extension)\n",
    "\n",
    "df['image_path'] = df['image_id'].map(get_image_path)\n",
    "\n",
    "# Save the modified DataFrame back to a CSV file\n",
    "df.to_csv('modified_file.csv', index=False)"
   ]
  },
  {
   "cell_type": "code",
   "execution_count": 12,
   "id": "9441b265",
   "metadata": {},
   "outputs": [
    {
     "name": "stdout",
     "output_type": "stream",
     "text": [
      "         edge_uid  total_trip_count\n",
      "0       174190744                 5\n",
      "1       174190803               100\n",
      "2       174190805               100\n",
      "3       174190806               100\n",
      "4       174190808               100\n",
      "...           ...               ...\n",
      "183462  174773403                 5\n",
      "183463  174773414                 5\n",
      "183464  174773415                 5\n",
      "183465  174773417                 5\n",
      "183466  174773421                 5\n",
      "\n",
      "[183467 rows x 2 columns]\n"
     ]
    }
   ],
   "source": [
    "df2 = pd.read_csv('7f42d69dd7bd00b04081b9cbd0d05ab4e5f87353dcd7364c34b8e7c74d42109d-1676891223740.csv')\n",
    "\n",
    "sum_df = df2.groupby('edge_uid')['total_trip_count'].sum().reset_index()\n",
    "\n",
    "print(sum_df)"
   ]
  },
  {
   "cell_type": "code",
   "execution_count": 13,
   "id": "ac56c381",
   "metadata": {},
   "outputs": [],
   "source": [
    "sum_df.to_csv('total_trip_counts.csv', index=False)"
   ]
  },
  {
   "cell_type": "code",
   "execution_count": 14,
   "id": "70b4dc12",
   "metadata": {},
   "outputs": [
    {
     "name": "stdout",
     "output_type": "stream",
     "text": [
      "                image_id                                       geometry  \\\n",
      "0       1838135283055805   POINT (12.454456686973572 55.72951464113754)   \n",
      "1        478534750381235   POINT (12.45475172996521 55.728188528643074)   \n",
      "2        193800792561620   POINT (12.448373436927795 55.73175292018507)   \n",
      "3        193800792561620   POINT (12.448373436927795 55.73175292018507)   \n",
      "5       1145466765918865  POINT (12.454644441604614 55.727505819909766)   \n",
      "...                  ...                                            ...   \n",
      "698894   868988650493283   POINT (12.556225061416626 55.74320812040432)   \n",
      "698895   168512801742422   POINT (12.556219696998596 55.74517386076704)   \n",
      "698896   168512801742422   POINT (12.556219696998596 55.74517386076704)   \n",
      "698897   168512801742422   POINT (12.556219696998596 55.74517386076704)   \n",
      "698898   168512801742422   POINT (12.556219696998596 55.74517386076704)   \n",
      "\n",
      "        index_right      edgeUID        osmId  \\\n",
      "0          299404.0  174551542.0   38154645.0   \n",
      "1          169509.0  174551686.0  497235759.0   \n",
      "2          206908.0  174551366.0  406548684.0   \n",
      "3          267849.0  174551367.0  624492555.0   \n",
      "5          299404.0  174551542.0   38154645.0   \n",
      "...             ...          ...          ...   \n",
      "698894     177910.0  174595979.0    4266800.0   \n",
      "698895     149676.0  174598063.0  803164427.0   \n",
      "698896     178681.0  174598065.0  803164430.0   \n",
      "698897     241093.0  174598068.0  803164432.0   \n",
      "698898     250561.0  174598062.0  803164428.0   \n",
      "\n",
      "                                         image_path  total_trip_count  \n",
      "0       /home/s214626/billeder/1838135283055805.jpg              35.0  \n",
      "1        /home/s214626/billeder/478534750381235.jpg              60.0  \n",
      "2        /home/s214626/billeder/193800792561620.jpg               5.0  \n",
      "3        /home/s214626/billeder/193800792561620.jpg              20.0  \n",
      "5       /home/s214626/billeder/1145466765918865.jpg              35.0  \n",
      "...                                             ...               ...  \n",
      "698894   /home/s214626/billeder/868988650493283.jpg             690.0  \n",
      "698895   /home/s214626/billeder/168512801742422.jpg            1465.0  \n",
      "698896   /home/s214626/billeder/168512801742422.jpg            1005.0  \n",
      "698897   /home/s214626/billeder/168512801742422.jpg              85.0  \n",
      "698898   /home/s214626/billeder/168512801742422.jpg             410.0  \n",
      "\n",
      "[581108 rows x 7 columns]\n"
     ]
    }
   ],
   "source": [
    "merged_df = pd.merge(df, sum_df, left_on='edgeUID', right_on='edge_uid', how='left')\n",
    "merged_df = merged_df.drop('edge_uid', axis=1)\n",
    "merged_df.dropna(subset=['total_trip_count'], inplace=True)\n",
    "merged_df.to_csv('final_data.csv', index=False)\n",
    "print(merged_df)"
   ]
  },
  {
   "cell_type": "markdown",
   "id": "e0072baf",
   "metadata": {},
   "source": [
    "## "
   ]
  }
 ],
 "metadata": {
  "kernelspec": {
   "display_name": "Python 3 (ipykernel)",
   "language": "python",
   "name": "python3"
  },
  "language_info": {
   "codemirror_mode": {
    "name": "ipython",
    "version": 3
   },
   "file_extension": ".py",
   "mimetype": "text/x-python",
   "name": "python",
   "nbconvert_exporter": "python",
   "pygments_lexer": "ipython3",
   "version": "3.10.9"
  }
 },
 "nbformat": 4,
 "nbformat_minor": 5
}
