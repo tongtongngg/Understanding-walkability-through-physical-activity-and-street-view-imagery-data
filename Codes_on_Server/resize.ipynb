{
 "cells": [
  {
   "cell_type": "code",
   "execution_count": 1,
   "id": "441bd90f",
   "metadata": {},
   "outputs": [],
   "source": [
    "import os\n",
    "import os.path\n",
    "from PIL import Image\n"
   ]
  },
  {
   "cell_type": "code",
   "execution_count": 3,
   "id": "b2fef854",
   "metadata": {},
   "outputs": [
    {
     "name": "stdout",
     "output_type": "stream",
     "text": [
      "Deleted file: /home/s214626/billeder/166983675426661.jpg\n",
      "Deleted file: /home/s214626/billeder/857609598502183.jpg\n",
      "Deleted file: /home/s214626/billeder/591946748969801.jpg\n"
     ]
    }
   ],
   "source": [
    "import os\n",
    "from PIL import Image, UnidentifiedImageError\n",
    "from io import BytesIO\n",
    "\n",
    "folder_path = '/home/s214626/billeder/'\n",
    "\n",
    "# Iterate over all files in the folder\n",
    "for filename in os.listdir(folder_path):\n",
    "    file_path = os.path.join(folder_path, filename)\n",
    "\n",
    "    # Check if the file is an image\n",
    "    try:\n",
    "        with open(file_path, 'rb') as f:\n",
    "            # Attempt to open the file as an image\n",
    "            img = Image.open(BytesIO(f.read()))\n",
    "            img.verify()  # Verify the image file\n",
    "\n",
    "    except (IOError, SyntaxError, UnidentifiedImageError):\n",
    "        # If the file raises an error, it is not a valid image file\n",
    "        # Delete the file\n",
    "        os.remove(file_path)\n",
    "        print(f\"Deleted file: {file_path}\")\n"
   ]
  },
  {
   "cell_type": "code",
   "execution_count": 2,
   "id": "6d7b1aa6",
   "metadata": {},
   "outputs": [],
   "source": [
    "source_folder = '/home/s214626/billeder'\n",
    "destination_folder = '/home/s214626/unknown_images'\n",
    "\n",
    "for file in os.listdir(source_folder):\n",
    "    source_path = os.path.join(source_folder, file)\n",
    "\n",
    "    try:\n",
    "        img = Image.open(source_path)\n",
    "        img = img.resize((224, 224))\n",
    "        img.save(source_path)\n",
    "\n",
    "    except OSError:\n",
    "        try:\n",
    "            # Move the unidentified image to the destination folder\n",
    "            destination_path = os.path.join(destination_folder, file)\n",
    "            os.rename(source_path, destination_path)\n",
    "        except Exception as e:\n",
    "            print(f\"Failed to move {file}: {str(e)}\")"
   ]
  },
  {
   "cell_type": "code",
   "execution_count": 5,
   "id": "77b2a416",
   "metadata": {},
   "outputs": [
    {
     "ename": "UnidentifiedImageError",
     "evalue": "cannot identify image file '/home/s214626/billeder/591946748969801.jpg'",
     "output_type": "error",
     "traceback": [
      "\u001b[0;31m---------------------------------------------------------------------------\u001b[0m",
      "\u001b[0;31mUnidentifiedImageError\u001b[0m                    Traceback (most recent call last)",
      "Cell \u001b[0;32mIn[5], line 1\u001b[0m\n\u001b[0;32m----> 1\u001b[0m im \u001b[38;5;241m=\u001b[39m \u001b[43mImage\u001b[49m\u001b[38;5;241;43m.\u001b[39;49m\u001b[43mopen\u001b[49m\u001b[43m(\u001b[49m\u001b[38;5;124;43m'\u001b[39;49m\u001b[38;5;124;43m/home/s214626/billeder/591946748969801.jpg\u001b[39;49m\u001b[38;5;124;43m'\u001b[39;49m\u001b[43m)\u001b[49m\n\u001b[1;32m      3\u001b[0m \u001b[38;5;66;03m#show image\u001b[39;00m\n\u001b[1;32m      4\u001b[0m im\u001b[38;5;241m.\u001b[39mshow()\n",
      "File \u001b[0;32m/opt/anaconda3/lib/python3.10/site-packages/PIL/Image.py:3283\u001b[0m, in \u001b[0;36mopen\u001b[0;34m(fp, mode, formats)\u001b[0m\n\u001b[1;32m   3281\u001b[0m     warnings\u001b[38;5;241m.\u001b[39mwarn(message)\n\u001b[1;32m   3282\u001b[0m msg \u001b[38;5;241m=\u001b[39m \u001b[38;5;124m\"\u001b[39m\u001b[38;5;124mcannot identify image file \u001b[39m\u001b[38;5;132;01m%r\u001b[39;00m\u001b[38;5;124m\"\u001b[39m \u001b[38;5;241m%\u001b[39m (filename \u001b[38;5;28;01mif\u001b[39;00m filename \u001b[38;5;28;01melse\u001b[39;00m fp)\n\u001b[0;32m-> 3283\u001b[0m \u001b[38;5;28;01mraise\u001b[39;00m UnidentifiedImageError(msg)\n",
      "\u001b[0;31mUnidentifiedImageError\u001b[0m: cannot identify image file '/home/s214626/billeder/591946748969801.jpg'"
     ]
    }
   ],
   "source": [
    "im = Image.open('/home/s214626/billeder/591946748969801.jpg')\n",
    "\n",
    "#show image\n",
    "im.show()"
   ]
  },
  {
   "cell_type": "code",
   "execution_count": 2,
   "id": "1b0f3279",
   "metadata": {},
   "outputs": [
    {
     "name": "stdout",
     "output_type": "stream",
     "text": [
      "370830\n"
     ]
    }
   ],
   "source": [
    "lst = os.listdir('/home/s214626/billeder') # your directory path\n",
    "print(len(lst))"
   ]
  },
  {
   "cell_type": "code",
   "execution_count": null,
   "id": "f2c35be4",
   "metadata": {},
   "outputs": [],
   "source": []
  }
 ],
 "metadata": {
  "kernelspec": {
   "display_name": "Python 3 (ipykernel)",
   "language": "python",
   "name": "python3"
  },
  "language_info": {
   "codemirror_mode": {
    "name": "ipython",
    "version": 3
   },
   "file_extension": ".py",
   "mimetype": "text/x-python",
   "name": "python",
   "nbconvert_exporter": "python",
   "pygments_lexer": "ipython3",
   "version": "3.10.9"
  }
 },
 "nbformat": 4,
 "nbformat_minor": 5
}
