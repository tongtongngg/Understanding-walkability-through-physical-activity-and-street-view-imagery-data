{
 "cells": [
  {
   "cell_type": "code",
   "execution_count": 1,
   "id": "0c9ff424",
   "metadata": {},
   "outputs": [
    {
     "name": "stderr",
     "output_type": "stream",
     "text": [
      "2023-06-15 08:03:49.557356: I tensorflow/tsl/cuda/cudart_stub.cc:28] Could not find cuda drivers on your machine, GPU will not be used.\n",
      "2023-06-15 08:03:50.362447: I tensorflow/tsl/cuda/cudart_stub.cc:28] Could not find cuda drivers on your machine, GPU will not be used.\n",
      "2023-06-15 08:03:50.364692: I tensorflow/core/platform/cpu_feature_guard.cc:182] This TensorFlow binary is optimized to use available CPU instructions in performance-critical operations.\n",
      "To enable the following instructions: AVX2 FMA, in other operations, rebuild TensorFlow with the appropriate compiler flags.\n",
      "2023-06-15 08:03:52.451493: W tensorflow/compiler/tf2tensorrt/utils/py_utils.cc:38] TF-TRT Warning: Could not find TensorRT\n"
     ]
    }
   ],
   "source": [
    "import pandas as pd\n",
    "import numpy as np\n",
    "import tensorflow as tf\n",
    "import matplotlib.pyplot as plt\n",
    "from sklearn.model_selection import train_test_split\n",
    "from tensorflow.keras.applications.efficientnet import EfficientNetB0\n",
    "from tensorflow.keras.models import Model\n",
    "from tensorflow.keras.layers import Input, Dense, concatenate, Flatten\n",
    "from sklearn.metrics import mean_absolute_percentage_error\n",
    "from sklearn.metrics import mean_squared_error\n",
    "from tqdm import tqdm\n",
    "import geopandas as gpd\n",
    "from shapely.geometry import box\n",
    "from shapely.wkt import loads"
   ]
  },
  {
   "cell_type": "code",
   "execution_count": 10,
   "id": "4a865536",
   "metadata": {},
   "outputs": [
    {
     "name": "stdout",
     "output_type": "stream",
     "text": [
      "(581102, 3)\n",
      "(13823, 3)\n"
     ]
    }
   ],
   "source": [
    "# Load the CSV data\n",
    "data = pd.read_csv('final_data.csv')\n",
    "# Preprocess the data\n",
    "# Drop any unnecessary columns\n",
    "data = data[['image_path', 'total_trip_count','geometry']]\n",
    "\n",
    "# Filter out rows with missing image paths\n",
    "data = data.dropna(subset=['image_path'])\n",
    "print(data.shape)\n",
    "# Create a bounding box\n",
    "#nørreport box(12.563100, 55.682250,  12.573124, 55.685577) \n",
    "#hvidovre box(12.443359, 55.599086,  12.451035, 55.633655)\n",
    "#dragør box(12.662613, 55.583994,  12.672050, 55.594517)\n",
    "#55.755021, 12.530883\n",
    "\n",
    "#55.740750, 12.559771\n",
    "\n",
    "\n",
    "\n",
    "\n",
    "bbox = box(12.563100, 55.682984,  12.572124, 55.685577)  # Replace minx, miny, maxx, maxy with your actual coordinates\n",
    "\n",
    "\n",
    "# Convert the geometry strings to Point objects\n",
    "data['geometry'] = data['geometry'].apply(lambda x: loads(x))\n",
    "\n",
    "# Convert the data to a GeoDataFrame\n",
    "gdf = gpd.GeoDataFrame(data, geometry='geometry')\n",
    "\n",
    "# Filter out data outside the bounding box\n",
    "data = gdf[gdf.geometry.within(bbox)]\n",
    "print(data.shape)"
   ]
  },
  {
   "cell_type": "code",
   "execution_count": 11,
   "id": "c3450d07",
   "metadata": {},
   "outputs": [
    {
     "data": {
      "image/png": "[encoded data removed]",
      "text/plain": [
       "<Figure size 640x480 with 1 Axes>"
      ]
     },
     "metadata": {},
     "output_type": "display_data"
    }
   ],
   "source": [
    "# Plot histogram\n",
    "plt.hist(data['total_trip_count'], bins=20)  # Adjust the number of bins as needed\n",
    "plt.xlabel('Total Trip Count')\n",
    "plt.ylabel('Frequency')\n",
    "plt.title('Histogram of Total Trip Count')\n",
    "plt.show()"
   ]
  },
  {
   "cell_type": "code",
   "execution_count": 12,
   "id": "2c59dd37",
   "metadata": {},
   "outputs": [
    {
     "name": "stderr",
     "output_type": "stream",
     "text": [
      "100%|█████████████████████████████████████████████████████████████████████████████| 11058/11058 [11:14<00:00, 16.39it/s]\n",
      "100%|███████████████████████████████████████████████████████████████████████████████| 2765/2765 [02:47<00:00, 16.54it/s]\n"
     ]
    }
   ],
   "source": [
    "# Split the dataset into training and testing sets\n",
    "X = data['image_path']\n",
    "y = data['total_trip_count']\n",
    "X_train, X_test, y_train, y_test = train_test_split(X, y, test_size=0.2, random_state=42)\n",
    "\n",
    "# Save y_train to a .npy file\n",
    "np.save('y_train1.npy', y_train)\n",
    "\n",
    "# Save y_test to a .npy file\n",
    "np.save('y_test1.npy', y_test)\n",
    "\n",
    "# Load pre-trained CNN (EfficientNetB0) without top layers\n",
    "base_model = EfficientNetB0(weights='imagenet', include_top=False, input_shape=(224, 224, 3))\n",
    "\n",
    "# Freeze the pre-trained layers\n",
    "for layer in base_model.layers:\n",
    "    layer.trainable = False\n",
    "\n",
    "# Extract features from images using the pre-trained CNN\n",
    "def extract_image_features(image_path):\n",
    "    img = tf.keras.preprocessing.image.load_img(image_path, target_size=(224, 224))\n",
    "    img = tf.keras.preprocessing.image.img_to_array(img)\n",
    "    img = np.expand_dims(img, axis=0)\n",
    "    img = tf.keras.applications.efficientnet.preprocess_input(img)\n",
    "    features = base_model.predict(img,verbose=0)\n",
    "    return features.flatten()\n",
    "\n",
    "\n",
    "# Define file paths for saving the features\n",
    "train_features_file = 'train_features1.npy'\n",
    "test_features_file = 'test_features1.npy'\n",
    "\n",
    "# Create empty lists to store the features\n",
    "train_image_features = []\n",
    "test_image_features = []\n",
    "\n",
    "# Extract image features\n",
    "for image_path in tqdm(X_train):\n",
    "    image_features = extract_image_features(image_path)\n",
    "    if image_features is not None:\n",
    "        train_image_features.append(image_features)\n",
    "        \n",
    "# Convert feature lists to numpy arrays\n",
    "train_image_features = np.array(train_image_features)\n",
    "# Save the features to files\n",
    "np.save(train_features_file, train_image_features)\n",
    "\n",
    "for image_path in tqdm(X_test):\n",
    "    image_features = extract_image_features(image_path)\n",
    "    if image_features is not None:\n",
    "        test_image_features.append(image_features)\n",
    "        \n",
    "# Convert feature lists to numpy arrays\n",
    "test_image_features = np.array(test_image_features)\n",
    "\n",
    "# Save the features to files\n",
    "np.save(test_features_file, test_image_features)\n"
   ]
  },
  {
   "cell_type": "code",
   "execution_count": null,
   "id": "78d36b44",
   "metadata": {},
   "outputs": [],
   "source": []
  }
 ],
 "metadata": {
  "kernelspec": {
   "display_name": "Python 3 (ipykernel)",
   "language": "python",
   "name": "python3"
  },
  "language_info": {
   "codemirror_mode": {
    "name": "ipython",
    "version": 3
   },
   "file_extension": ".py",
   "mimetype": "text/x-python",
   "name": "python",
   "nbconvert_exporter": "python",
   "pygments_lexer": "ipython3",
   "version": "3.10.9"
  }
 },
 "nbformat": 4,
 "nbformat_minor": 5
}
